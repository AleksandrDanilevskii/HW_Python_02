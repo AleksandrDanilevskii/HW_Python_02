{
 "cells": [
  {
   "cell_type": "markdown",
   "metadata": {},
   "source": [
    "# **HW-02**\n",
    "Данилевского Александра"
   ]
  },
  {
   "cell_type": "markdown",
   "metadata": {},
   "source": [
    "<div style=\"clear:both;\"></div>\n",
    "<hr style=\"float:left;width:100%;border-top: 3px double #8c8b8b;\">\n",
    "<div style=\"clear:both;\"></div>"
   ]
  },
  {
   "cell_type": "markdown",
   "metadata": {},
   "source": [
    "## Задание № 0\n",
    "\n",
    "Наберите в LaTeX формулу (для дробей использовать &bsol;frac и &bsol;cfrac (для многоэтажных))\n",
    "\n",
    "![Я что-то нажал и всё пропало](https://a.radikal.ru/a06/1810/7a/228b571a4336.png)"
   ]
  },
  {
   "cell_type": "markdown",
   "metadata": {},
   "source": [
    "$$\\frac{K}{2}[\\xi(B + \\gamma C) - \\pi/\\omega \\cos\\beta\\sinh\\alpha]/(\\sin^2\\beta + \\sinh^2\\alpha)] - j\\frac{\\pi K}{4}(1 - \\xi^2)^{-1/2}\\sin\\beta/(\\cosh\\alpha + \\cos\\beta),$$\n",
    "$$\\alpha = \\pi\\xi/\\omega, \\beta = \\pi(1-\\xi^2)^{1/2}/\\omega, \\gamma = \\alpha/\\beta$$\n",
    "$$B = \\alpha\\cos\\beta\\sinh\\alpha + \\beta\\sin\\beta\\cosh\\alpha,$$\n",
    "$$C = \\alpha\\sin\\beta\\cosh\\alpha - \\beta\\cos\\beta\\sinh\\alpha$$\n",
    "\n",
    "<td><p style=\"color:blue;\">***Лишняя закрывающаяся квадратная скобка в конце первой строки картинки?***</p></td>"
   ]
  },
  {
   "cell_type": "markdown",
   "metadata": {},
   "source": [
    "<div style=\"clear:both;\"></div>\n",
    "<hr style=\"float:left;width:100%;border-top: 3px double #8c8b8b;\">\n",
    "<div style=\"clear:both;\"></div>"
   ]
  },
  {
   "cell_type": "markdown",
   "metadata": {},
   "source": [
    "## Задание № 1\n",
    "\n",
    "Напишите функцию, которой на вход подаются \n",
    "- начальное целое значение ($a$, по умолчанию = 1000) \n",
    "- конечное целое значение ($b$, по умолчанию = 5000). \n",
    "\n",
    "Программа должна вывести список всех чисел между $a$ и $b$, в записи которых только чётные числа."
   ]
  },
  {
   "cell_type": "code",
   "execution_count": null,
   "metadata": {},
   "outputs": [],
   "source": [
    "def fun1(a = 1000, b = 5000):\n",
    "    '''Вывод всех чисел между a и b, в записи которых только чётные числа.'''\n",
    "    for c in range(a, b+1):\n",
    "        if c%2==0:\n",
    "            f = True\n",
    "            d = abs(c)\n",
    "            for i in range(len(str(d))):\n",
    "                if (d%10)%2 != 0:\n",
    "                    f = False\n",
    "                    break\n",
    "                else:\n",
    "                    d = d//10\n",
    "            if f:\n",
    "                print(c)\n",
    "        "
   ]
  },
  {
   "cell_type": "code",
   "execution_count": null,
   "metadata": {
    "scrolled": false
   },
   "outputs": [],
   "source": [
    "fun1(-15, 15)"
   ]
  },
  {
   "cell_type": "markdown",
   "metadata": {},
   "source": [
    "<div style=\"clear:both;\"></div>\n",
    "<hr style=\"float:left;width:100%;border-top: 3px double #8c8b8b;\">\n",
    "<div style=\"clear:both;\"></div>"
   ]
  },
  {
   "cell_type": "markdown",
   "metadata": {},
   "source": [
    "## Задание № 2\n",
    "\n",
    "Напишите функцию от двух аргументов $n$, $m$, которая выводит каждый $m$-е из первых $n$ строк треугольника Паскаля.                               "
   ]
  },
  {
   "cell_type": "code",
   "execution_count": null,
   "metadata": {},
   "outputs": [],
   "source": [
    "def pascal_triangle(n, *, step = 1):\n",
    "    '''Выводит каждую step-ю из первых n строк треугольника Паскаля.'''\n",
    "    for k in range(0, n, step):\n",
    "        line = [0 for l in range(k+1)]\n",
    "        line[0], line[-1] = 1, 1\n",
    "        for i in range(1, k//2+1):\n",
    "            line[i] = int(line[i-1]*(k-i+1)/i)\n",
    "            line[k-i] = line[i]\n",
    "        print('k=',k,': ',line)"
   ]
  },
  {
   "cell_type": "code",
   "execution_count": null,
   "metadata": {},
   "outputs": [],
   "source": [
    "pascal_triangle(10, step = 1)"
   ]
  },
  {
   "cell_type": "markdown",
   "metadata": {},
   "source": [
    "<div style=\"clear:both;\"></div>\n",
    "<hr style=\"float:left;width:100%;border-top: 3px double #8c8b8b;\">\n",
    "<div style=\"clear:both;\"></div>"
   ]
  },
  {
   "cell_type": "markdown",
   "metadata": {},
   "source": [
    "## Задание № 3\n",
    "\n",
    "Напишите функцию, принимающую произвольное число произвольных аргументов и возвращающая словарь с парами \n",
    "```\n",
    "<название_типа данных>: <количество элементов этого типа данных среди переданных аргументов> \n",
    "```"
   ]
  },
  {
   "cell_type": "code",
   "execution_count": null,
   "metadata": {},
   "outputs": [],
   "source": [
    "def fun3(*args):\n",
    "    ''' возвращающая словарь с парами <название_типа данных>: <количество элементов этого типа данных среди переданных аргументов> '''\n",
    "    dict3 = dict()\n",
    "    for arg in args: \n",
    "        dict3[type(arg)] = dict3.get(type(arg), 0) + 1\n",
    "    return dict3"
   ]
  },
  {
   "cell_type": "code",
   "execution_count": null,
   "metadata": {},
   "outputs": [],
   "source": [
    "fun3(4, 'string', 3.5, range(4), 6, 4, 6.2, True, False, [1,2], 3j)"
   ]
  },
  {
   "cell_type": "markdown",
   "metadata": {},
   "source": [
    "<div style=\"clear:both;\"></div>\n",
    "<hr style=\"float:left;width:100%;border-top: 3px double #8c8b8b;\">\n",
    "<div style=\"clear:both;\"></div>"
   ]
  },
  {
   "cell_type": "markdown",
   "metadata": {},
   "source": [
    "## Задание № 4\n",
    "Напишите собственную реализацию стандартных тригонометрических (и не только) функций - $cos, sin, ln, e$\n",
    "\n",
    "- Оформьте в ячейке markdown соответствующие формулы.\n",
    "- Напишите функции my_sin(), my_cos(), ... - аргументы - **углы**, не радианы\n",
    "- Проверьте, чтобы считалось и от комплексного аргумента\n",
    "- Сравните (удобным вам способом) полученные вами результаты с результатами стандартных методов "
   ]
  },
  {
   "cell_type": "markdown",
   "metadata": {},
   "source": [
    "## Формулы:\n",
    "$$\\sin x = \\sum\\limits_{n=0}^{\\infty} (-1)^n\\frac{x^{2n+1}}{(2n+1)!};$$;\n",
    "$$\\cos x = \\sum\\limits_{n=0}^{\\infty} (-1)^n\\frac{x^{2n}}{(2n)!};$$\n",
    "$$\\ln \\frac{1+x}{1-x} = 2\\sum\\limits_{n=0}^{\\infty} \\frac{x^{2n+1}}{2n+1};$$\n",
    "$$\\exp x = \\sum\\limits_{n=0}^{\\infty} \\frac{x^n}{n!}.$$"
   ]
  },
  {
   "cell_type": "code",
   "execution_count": null,
   "metadata": {},
   "outputs": [],
   "source": [
    "def my_sin(x, N = 50):\n",
    "    '''Синус числа х. N -- количество слагаемых ряда'''\n",
    "    sum = 0\n",
    "    for n in range(N):\n",
    "        sum+=((-1)**n)*(x**(2*n+1))/(math.factorial(2*n+1))\n",
    "    return sum"
   ]
  },
  {
   "cell_type": "code",
   "execution_count": null,
   "metadata": {},
   "outputs": [],
   "source": [
    "def my_cos(x, N = 50):\n",
    "    '''Коинус числа х. N -- количество слагаемых ряда'''\n",
    "    sum = 0\n",
    "    for n in range(N):\n",
    "        sum+=((-1)**n)*(x**(2*n))/(math.factorial(2*n))\n",
    "    return sum"
   ]
  },
  {
   "cell_type": "code",
   "execution_count": null,
   "metadata": {},
   "outputs": [],
   "source": [
    "def my_ln(y, N = 100):\n",
    "    '''Натуральный логарифм числа х. N -- количество слагаемых ряда'''\n",
    "    x = (y-1)/(y+1)\n",
    "    sum = 0\n",
    "    for n in range(N):\n",
    "        sum+=(x**(2*n+1))/(2*n+1)\n",
    "    sum*=2\n",
    "    return sum"
   ]
  },
  {
   "cell_type": "code",
   "execution_count": null,
   "metadata": {},
   "outputs": [],
   "source": [
    "def my_exp(x, N = 50):\n",
    "    '''Экспонента числа х. N -- количество слагаемых ряда'''\n",
    "    sum = 0\n",
    "    for n in range(N):\n",
    "        sum+=(x**n)/math.factorial(n)\n",
    "    return sum"
   ]
  },
  {
   "cell_type": "code",
   "execution_count": null,
   "metadata": {
    "scrolled": true
   },
   "outputs": [],
   "source": [
    "import math, cmath\n",
    "#проверка\n",
    "a1 = 90\n",
    "a2 = 5-2.2j\n",
    "a1r = math.radians(a1)\n",
    "print('Проверка sin:')\n",
    "print(abs(my_sin(a1r) - math.sin(a1r)))\n",
    "print(abs(my_sin(a2) - cmath.sin(a2)))\n",
    "print('Проверка cos:')\n",
    "print(abs(my_cos(a1r) - math.cos(a1r)))\n",
    "print(abs(my_cos(a2) - cmath.cos(a2)))\n",
    "\n",
    "a1 = 3\n",
    "print('Проверка ln:')\n",
    "print(abs(my_ln(a1)-math.log(a1)))\n",
    "print(abs(my_ln(a2)-cmath.log(a2)))\n",
    "print('Проверка exp:')\n",
    "print(abs(my_exp(a1)-math.exp(a1)))\n",
    "print(abs(my_exp(a2)-cmath.exp(a2)))"
   ]
  }
 ],
 "metadata": {
  "kernelspec": {
   "display_name": "Python 3",
   "language": "python",
   "name": "python3"
  },
  "language_info": {
   "codemirror_mode": {
    "name": "ipython",
    "version": 3
   },
   "file_extension": ".py",
   "mimetype": "text/x-python",
   "name": "python",
   "nbconvert_exporter": "python",
   "pygments_lexer": "ipython3",
   "version": "3.6.5"
  }
 },
 "nbformat": 4,
 "nbformat_minor": 2
}
